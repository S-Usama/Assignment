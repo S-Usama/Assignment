{
 "cells": [
  {
   "cell_type": "code",
   "execution_count": 4,
   "metadata": {},
   "outputs": [
    {
     "name": "stdout",
     "output_type": "stream",
     "text": [
      "Found directory: Photo\n",
      "\tairplane.png\n",
      "Found directory: Photo\n",
      "\tblack.jpg\n",
      "Found directory: Photo\n",
      "\tbutterfly.jpg\n",
      "Found directory: Photo\n",
      "\tcar.jpg\n",
      "Found directory: Photo\n",
      "\tcloud.jpg\n",
      "Found directory: Photo\n",
      "\tdog.png\n",
      "Found directory: Photo\n",
      "\tdownload.jpg\n",
      "Found directory: Photo\n",
      "\tflower.jpg\n",
      "Found directory: Photo\n",
      "\tgalaxy.jpg\n",
      "Found directory: Photo\n",
      "\tgrass.jpg\n",
      "Found directory: Photo\n",
      "\thouse.jpg\n",
      "Found directory: Photo\n",
      "\tleaf.jpg\n",
      "Found directory: Photo\n",
      "\tmoon.jpg\n",
      "Found directory: Photo\n",
      "\tnature.jpg\n",
      "Found directory: Photo\n",
      "\tnight.jpg\n",
      "Found directory: Photo\n",
      "\tpic.jpg\n",
      "Found directory: Photo\n",
      "\tsea.jpg\n",
      "Found directory: Photo\n",
      "\tsky.jpg\n",
      "Found directory: Photo\n",
      "\tstair.jpg\n",
      "Found directory: Photo\n",
      "\tsun.jpg\n",
      "Found directory: Photo\n",
      "\ttree.jpg\n",
      "Found directory: Photo\n",
      "\twall.jpg\n",
      "Found directory: Photo\n",
      "None\n",
      "None\n",
      "None\n",
      "None\n",
      "None\n",
      "None\n",
      "None\n",
      "None\n",
      "None\n",
      "None\n",
      "None\n",
      "None\n",
      "None\n",
      "None\n",
      "None\n",
      "None\n",
      "None\n",
      "None\n",
      "None\n",
      "None\n"
     ]
    }
   ],
   "source": [
    "import numpy as np\n",
    "import matplotlib.pyplot as plt\n",
    "from PIL import  Image\n",
    "photo = np.ones([20,200,200,3])\n",
    "import os\n",
    "rootDr = 'Photo'\n",
    "for dirname , subdirlist, filelist in os.walk(rootDr):\n",
    "    print('Found directory: %s' % dirname)\n",
    "    for fname in filelist:\n",
    "        print('\\t%s' % fname)\n",
    "        print('Found directory: %s' % dirname )\n",
    "        \n",
    "for i in photo:\n",
    "    im = i.resize(200,200,3)\n",
    "    print(im)\n",
    "    \n"
   ]
  },
  {
   "cell_type": "code",
   "execution_count": null,
   "metadata": {},
   "outputs": [],
   "source": []
  },
  {
   "cell_type": "code",
   "execution_count": null,
   "metadata": {},
   "outputs": [],
   "source": []
  },
  {
   "cell_type": "code",
   "execution_count": null,
   "metadata": {},
   "outputs": [],
   "source": []
  }
 ],
 "metadata": {
  "kernelspec": {
   "display_name": "Python 3",
   "language": "python",
   "name": "python3"
  },
  "language_info": {
   "codemirror_mode": {
    "name": "ipython",
    "version": 3
   },
   "file_extension": ".py",
   "mimetype": "text/x-python",
   "name": "python",
   "nbconvert_exporter": "python",
   "pygments_lexer": "ipython3",
   "version": "3.7.3"
  }
 },
 "nbformat": 4,
 "nbformat_minor": 2
}
